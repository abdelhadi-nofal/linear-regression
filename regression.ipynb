{
 "cells": [
  {
   "cell_type": "code",
   "execution_count": 1,
   "id": "eb83c80e-bc70-4868-88a9-2fcd0fac2953",
   "metadata": {},
   "outputs": [],
   "source": [
    "import pandas as pd\n",
    "import numpy as np\n",
    "import matplotlib.pyplot as plt\n",
    "from sklearn.linear_model import LinearRegression\n",
    "from sklearn.model_selection import train_test_split\n",
    "\n",
    "%matplotlib inline"
   ]
  },
  {
   "cell_type": "code",
   "execution_count": 2,
   "id": "cb73efe9-25ae-4239-8d00-37f463f3f196",
   "metadata": {},
   "outputs": [
    {
     "data": {
      "text/html": [
       "<div>\n",
       "<style scoped>\n",
       "    .dataframe tbody tr th:only-of-type {\n",
       "        vertical-align: middle;\n",
       "    }\n",
       "\n",
       "    .dataframe tbody tr th {\n",
       "        vertical-align: top;\n",
       "    }\n",
       "\n",
       "    .dataframe thead th {\n",
       "        text-align: right;\n",
       "    }\n",
       "</style>\n",
       "<table border=\"1\" class=\"dataframe\">\n",
       "  <thead>\n",
       "    <tr style=\"text-align: right;\">\n",
       "      <th></th>\n",
       "      <th>TV</th>\n",
       "      <th>Radio</th>\n",
       "      <th>Newspaper</th>\n",
       "      <th>Sales</th>\n",
       "    </tr>\n",
       "  </thead>\n",
       "  <tbody>\n",
       "    <tr>\n",
       "      <th>0</th>\n",
       "      <td>230.1</td>\n",
       "      <td>37.8</td>\n",
       "      <td>69.2</td>\n",
       "      <td>22.1</td>\n",
       "    </tr>\n",
       "    <tr>\n",
       "      <th>1</th>\n",
       "      <td>44.5</td>\n",
       "      <td>39.3</td>\n",
       "      <td>45.1</td>\n",
       "      <td>10.4</td>\n",
       "    </tr>\n",
       "    <tr>\n",
       "      <th>2</th>\n",
       "      <td>17.2</td>\n",
       "      <td>45.9</td>\n",
       "      <td>69.3</td>\n",
       "      <td>12.0</td>\n",
       "    </tr>\n",
       "    <tr>\n",
       "      <th>3</th>\n",
       "      <td>151.5</td>\n",
       "      <td>41.3</td>\n",
       "      <td>58.5</td>\n",
       "      <td>16.5</td>\n",
       "    </tr>\n",
       "    <tr>\n",
       "      <th>4</th>\n",
       "      <td>180.8</td>\n",
       "      <td>10.8</td>\n",
       "      <td>58.4</td>\n",
       "      <td>17.9</td>\n",
       "    </tr>\n",
       "  </tbody>\n",
       "</table>\n",
       "</div>"
      ],
      "text/plain": [
       "      TV  Radio  Newspaper  Sales\n",
       "0  230.1   37.8       69.2   22.1\n",
       "1   44.5   39.3       45.1   10.4\n",
       "2   17.2   45.9       69.3   12.0\n",
       "3  151.5   41.3       58.5   16.5\n",
       "4  180.8   10.8       58.4   17.9"
      ]
     },
     "execution_count": 2,
     "metadata": {},
     "output_type": "execute_result"
    }
   ],
   "source": [
    "data = pd.read_csv(\"advertising.csv\").head(70)\n",
    "datahead = data.head()\n",
    "datahead\n"
   ]
  },
  {
   "cell_type": "code",
   "execution_count": 3,
   "id": "8f226c84-5524-435f-956f-c2920ae2d836",
   "metadata": {},
   "outputs": [
    {
     "name": "stdout",
     "output_type": "stream",
     "text": [
      "<class 'pandas.core.frame.DataFrame'>\n",
      "RangeIndex: 70 entries, 0 to 69\n",
      "Data columns (total 4 columns):\n",
      " #   Column     Non-Null Count  Dtype  \n",
      "---  ------     --------------  -----  \n",
      " 0   TV         70 non-null     float64\n",
      " 1   Radio      70 non-null     float64\n",
      " 2   Newspaper  70 non-null     float64\n",
      " 3   Sales      70 non-null     float64\n",
      "dtypes: float64(4)\n",
      "memory usage: 2.3 KB\n"
     ]
    }
   ],
   "source": [
    "info = data.info()\n",
    "info\n"
   ]
  },
  {
   "cell_type": "code",
   "execution_count": 4,
   "id": "4f90f883-ff4f-424c-8d71-885457670eff",
   "metadata": {},
   "outputs": [
    {
     "data": {
      "text/html": [
       "<div>\n",
       "<style scoped>\n",
       "    .dataframe tbody tr th:only-of-type {\n",
       "        vertical-align: middle;\n",
       "    }\n",
       "\n",
       "    .dataframe tbody tr th {\n",
       "        vertical-align: top;\n",
       "    }\n",
       "\n",
       "    .dataframe thead th {\n",
       "        text-align: right;\n",
       "    }\n",
       "</style>\n",
       "<table border=\"1\" class=\"dataframe\">\n",
       "  <thead>\n",
       "    <tr style=\"text-align: right;\">\n",
       "      <th></th>\n",
       "      <th>TV</th>\n",
       "      <th>Radio</th>\n",
       "      <th>Newspaper</th>\n",
       "      <th>Sales</th>\n",
       "    </tr>\n",
       "  </thead>\n",
       "  <tbody>\n",
       "    <tr>\n",
       "      <th>count</th>\n",
       "      <td>70.000000</td>\n",
       "      <td>70.000000</td>\n",
       "      <td>70.000000</td>\n",
       "      <td>70.000000</td>\n",
       "    </tr>\n",
       "    <tr>\n",
       "      <th>mean</th>\n",
       "      <td>154.148571</td>\n",
       "      <td>24.748571</td>\n",
       "      <td>31.421429</td>\n",
       "      <td>15.761429</td>\n",
       "    </tr>\n",
       "    <tr>\n",
       "      <th>std</th>\n",
       "      <td>86.671622</td>\n",
       "      <td>14.553039</td>\n",
       "      <td>21.832590</td>\n",
       "      <td>5.166231</td>\n",
       "    </tr>\n",
       "    <tr>\n",
       "      <th>min</th>\n",
       "      <td>7.300000</td>\n",
       "      <td>1.400000</td>\n",
       "      <td>0.300000</td>\n",
       "      <td>4.800000</td>\n",
       "    </tr>\n",
       "    <tr>\n",
       "      <th>25%</th>\n",
       "      <td>69.550000</td>\n",
       "      <td>13.075000</td>\n",
       "      <td>16.075000</td>\n",
       "      <td>11.825000</td>\n",
       "    </tr>\n",
       "    <tr>\n",
       "      <th>50%</th>\n",
       "      <td>176.050000</td>\n",
       "      <td>25.150000</td>\n",
       "      <td>28.100000</td>\n",
       "      <td>16.250000</td>\n",
       "    </tr>\n",
       "    <tr>\n",
       "      <th>75%</th>\n",
       "      <td>227.800000</td>\n",
       "      <td>37.425000</td>\n",
       "      <td>44.650000</td>\n",
       "      <td>20.100000</td>\n",
       "    </tr>\n",
       "    <tr>\n",
       "      <th>max</th>\n",
       "      <td>293.600000</td>\n",
       "      <td>49.600000</td>\n",
       "      <td>114.000000</td>\n",
       "      <td>25.400000</td>\n",
       "    </tr>\n",
       "  </tbody>\n",
       "</table>\n",
       "</div>"
      ],
      "text/plain": [
       "               TV      Radio   Newspaper      Sales\n",
       "count   70.000000  70.000000   70.000000  70.000000\n",
       "mean   154.148571  24.748571   31.421429  15.761429\n",
       "std     86.671622  14.553039   21.832590   5.166231\n",
       "min      7.300000   1.400000    0.300000   4.800000\n",
       "25%     69.550000  13.075000   16.075000  11.825000\n",
       "50%    176.050000  25.150000   28.100000  16.250000\n",
       "75%    227.800000  37.425000   44.650000  20.100000\n",
       "max    293.600000  49.600000  114.000000  25.400000"
      ]
     },
     "execution_count": 4,
     "metadata": {},
     "output_type": "execute_result"
    }
   ],
   "source": [
    "description = data.describe()\n",
    "description"
   ]
  },
  {
   "cell_type": "markdown",
   "id": "e9aa2cb2-c562-4602-b51b-98a4a318fd80",
   "metadata": {},
   "source": [
    "## Advertisement On TV"
   ]
  },
  {
   "cell_type": "code",
   "execution_count": 5,
   "id": "1e413d30-ae88-40ad-9994-56f3b47c0b99",
   "metadata": {},
   "outputs": [],
   "source": [
    "#Selecting Corresponding Features\n",
    "X = data['TV'].values\n",
    "y = data['Sales'].values"
   ]
  },
  {
   "cell_type": "code",
   "execution_count": 6,
   "id": "b852038d-a9c4-4b91-94f9-e1976fa2a01a",
   "metadata": {},
   "outputs": [],
   "source": [
    "X=X.reshape(-1,1)\n",
    "# X\n"
   ]
  },
  {
   "cell_type": "code",
   "execution_count": 7,
   "id": "fb55ff17-cf5b-4542-8618-039a55dbd3be",
   "metadata": {},
   "outputs": [],
   "source": [
    "# y\n"
   ]
  },
  {
   "cell_type": "code",
   "execution_count": 8,
   "id": "29ec4f57-6474-4e15-a464-b38134de6995",
   "metadata": {},
   "outputs": [
    {
     "name": "stdout",
     "output_type": "stream",
     "text": [
      "[10.1 16.5 12.  11.8 17.1 11.9 16.1 18.   9.7 20.7 14.7 17.9 17.8 19.8]\n"
     ]
    }
   ],
   "source": [
    "# X_feature - Years Experience\n",
    "# y_output - Salary in $\n",
    "x_train, x_test, y_train, y_test = train_test_split(X,y,test_size=0.2,random_state=10)\n",
    "# print(f\"X_train shape {x_train.shape}\")\n",
    "# print(f\"y_train shape {y_train.shape}\")\n",
    "# print(f\"X_test shape {x_test.shape}\")\n",
    "# print(f\"y_test shape {y_test.shape}\")\n",
    "print(y_test)"
   ]
  },
  {
   "cell_type": "code",
   "execution_count": 9,
   "id": "cb90e5c8-4b20-459c-8c71-ee382a589ddb",
   "metadata": {},
   "outputs": [],
   "source": [
    "lm = LinearRegression()\n",
    "lm.fit(x_train,y_train)\n",
    "y_predict = lm.predict(x_test)"
   ]
  },
  {
   "cell_type": "code",
   "execution_count": 10,
   "id": "c370b3b9-20bf-49b2-86e5-b96107037935",
   "metadata": {},
   "outputs": [
    {
     "data": {
      "text/plain": [
       "Text(0.5, 1.0, 'Advertisment On TV')"
      ]
     },
     "execution_count": 10,
     "metadata": {},
     "output_type": "execute_result"
    },
    {
     "data": {
      "image/png": "[encoded data removed]",
      "text/plain": [
       "<Figure size 432x288 with 1 Axes>"
      ]
     },
     "metadata": {
      "needs_background": "light"
     },
     "output_type": "display_data"
    }
   ],
   "source": [
    "plt.scatter(x_train,y_train,color='red')\n",
    "plt.plot(x_test,y_predict)\n",
    "plt.xlabel('TV')\n",
    "plt.ylabel('Sales')\n",
    "plt.title('Advertisment On TV')\n",
    "# plt.show()"
   ]
  },
  {
   "cell_type": "code",
   "execution_count": 11,
   "id": "c9a6fd87-4bd3-4aa9-aa25-638f3527e453",
   "metadata": {},
   "outputs": [
    {
     "data": {
      "text/plain": [
       "82.70021851471728"
      ]
     },
     "execution_count": 11,
     "metadata": {},
     "output_type": "execute_result"
    }
   ],
   "source": [
    "\n",
    "train_accuarcy = lm.score(x_train,y_train)*100\n",
    "train_accuarcy"
   ]
  },
  {
   "cell_type": "markdown",
   "id": "1276fd8b-0697-400c-a272-4c8d534060bd",
   "metadata": {},
   "source": [
    "## Adverstisement On Radio\n"
   ]
  },
  {
   "cell_type": "code",
   "execution_count": 12,
   "id": "b807ce4e-12fe-444a-8a65-befe983192d7",
   "metadata": {},
   "outputs": [],
   "source": [
    "X = data['Radio'].values\n",
    "y = data['Sales'].values"
   ]
  },
  {
   "cell_type": "code",
   "execution_count": 13,
   "id": "4d17998b-cbd2-4403-b38e-6eb811bf7a3f",
   "metadata": {},
   "outputs": [],
   "source": [
    "X=X.reshape(-1,1)\n"
   ]
  },
  {
   "cell_type": "code",
   "execution_count": 14,
   "id": "b57c5b69-297e-423d-a4ba-bc85cf64d3bc",
   "metadata": {},
   "outputs": [],
   "source": [
    "x_train, x_test, y_train, y_test = train_test_split(X,y,test_size=0.2,random_state=10)"
   ]
  },
  {
   "cell_type": "code",
   "execution_count": 15,
   "id": "93930e52-e35d-43cb-948e-bbb60e2eb0c2",
   "metadata": {},
   "outputs": [],
   "source": [
    "lm = LinearRegression()\n",
    "lm.fit(x_train,y_train)\n",
    "y_predict = lm.predict(x_test)"
   ]
  },
  {
   "cell_type": "code",
   "execution_count": 16,
   "id": "91e91277-439d-4e09-83f0-3962ae2affa4",
   "metadata": {},
   "outputs": [
    {
     "data": {
      "text/plain": [
       "Text(0.5, 1.0, 'Advertisement On Radio')"
      ]
     },
     "execution_count": 16,
     "metadata": {},
     "output_type": "execute_result"
    },
    {
     "data": {
      "image/png": "[encoded data removed]",
      "text/plain": [
       "<Figure size 432x288 with 1 Axes>"
      ]
     },
     "metadata": {
      "needs_background": "light"
     },
     "output_type": "display_data"
    }
   ],
   "source": [
    "plt.scatter(x_train,y_train,color='blue')\n",
    "plt.plot(x_test,y_predict)\n",
    "plt.xlabel('Radio')\n",
    "plt.ylabel('Sales')\n",
    "plt.title('Advertisement On Radio')"
   ]
  },
  {
   "cell_type": "code",
   "execution_count": 17,
   "id": "ec33fc5a-48a7-4594-9b05-4b3af26d2135",
   "metadata": {},
   "outputs": [
    {
     "data": {
      "text/plain": [
       "25.662392241080102"
      ]
     },
     "execution_count": 17,
     "metadata": {},
     "output_type": "execute_result"
    }
   ],
   "source": [
    "train_accuarcy = lm.score(x_train,y_train)*100\n",
    "train_accuarcy"
   ]
  },
  {
   "cell_type": "markdown",
   "id": "dc5a185b-0ae0-4f58-a92c-c0b482e4cb16",
   "metadata": {},
   "source": [
    "## Adverstisement On Newspaper"
   ]
  },
  {
   "cell_type": "code",
   "execution_count": 18,
   "id": "0c717604-ac2e-4cd6-9a26-0b7fdefda70a",
   "metadata": {},
   "outputs": [],
   "source": [
    "X = data['Newspaper'].values\n",
    "y = data['Sales'].values"
   ]
  },
  {
   "cell_type": "code",
   "execution_count": 19,
   "id": "2b601fbf-94ae-421d-a0c0-c4cffc55d6c2",
   "metadata": {},
   "outputs": [],
   "source": [
    "X=X.reshape(-1,1)"
   ]
  },
  {
   "cell_type": "code",
   "execution_count": 20,
   "id": "5b9e90b8-8ee6-4b9f-a3a9-9890c084376f",
   "metadata": {},
   "outputs": [],
   "source": [
    "x_train, x_test, y_train, y_test = train_test_split(X,y,test_size=0.2,random_state=10)"
   ]
  },
  {
   "cell_type": "code",
   "execution_count": 21,
   "id": "6afda4ec-9c0e-4d22-852f-21c711cdbb41",
   "metadata": {},
   "outputs": [],
   "source": [
    "lm = LinearRegression()\n",
    "lm.fit(x_train,y_train)\n",
    "y_predict = lm.predict(x_test)"
   ]
  },
  {
   "cell_type": "code",
   "execution_count": 22,
   "id": "e9d1320e-0904-41aa-8c96-378b27378c90",
   "metadata": {},
   "outputs": [
    {
     "data": {
      "text/plain": [
       "Text(0.5, 1.0, 'Advertisement On Newspaper')"
      ]
     },
     "execution_count": 22,
     "metadata": {},
     "output_type": "execute_result"
    },
    {
     "data": {
      "image/png": "[encoded data removed]",
      "text/plain": [
       "<Figure size 432x288 with 1 Axes>"
      ]
     },
     "metadata": {
      "needs_background": "light"
     },
     "output_type": "display_data"
    }
   ],
   "source": [
    "plt.scatter(x_train,y_train,color='green')\n",
    "plt.plot(x_test,y_predict)\n",
    "plt.xlabel('Newspaper')\n",
    "plt.ylabel('Sales')\n",
    "plt.title('Advertisement On Newspaper')"
   ]
  },
  {
   "cell_type": "code",
   "execution_count": 23,
   "id": "8f897225-1d74-4b57-b697-f9778ec47432",
   "metadata": {},
   "outputs": [
    {
     "data": {
      "text/plain": [
       "0.18445117131631328"
      ]
     },
     "execution_count": 23,
     "metadata": {},
     "output_type": "execute_result"
    }
   ],
   "source": [
    "train_accuarcy = lm.score(x_train,y_train)*100\n",
    "train_accuarcy"
   ]
  },
  {
   "cell_type": "code",
   "execution_count": null,
   "id": "de2ddbb0-430a-4f58-9454-23479f47e36b",
   "metadata": {},
   "outputs": [],
   "source": []
  }
 ],
 "metadata": {
  "kernelspec": {
   "display_name": "Python 3",
   "language": "python",
   "name": "python3"
  },
  "language_info": {
   "codemirror_mode": {
    "name": "ipython",
    "version": 3
   },
   "file_extension": ".py",
   "mimetype": "text/x-python",
   "name": "python",
   "nbconvert_exporter": "python",
   "pygments_lexer": "ipython3",
   "version": "3.9.4"
  }
 },
 "nbformat": 4,
 "nbformat_minor": 5
}